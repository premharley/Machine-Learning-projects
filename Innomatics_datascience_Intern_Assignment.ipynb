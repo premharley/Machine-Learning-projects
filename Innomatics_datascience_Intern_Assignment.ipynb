{
 "cells": [
  {
   "cell_type": "code",
   "execution_count": 1,
   "id": "08778c44-fa9c-4357-a148-9b8af1233143",
   "metadata": {},
   "outputs": [],
   "source": [
    "import pandas as pd\n",
    "import numpy as np\n",
    "import matplotlib.pyplot as plt\n",
    "import seaborn as sns"
   ]
  },
  {
   "cell_type": "code",
   "execution_count": 2,
   "id": "2bd0e3b7-1d0b-4311-baf9-7dcb71419179",
   "metadata": {},
   "outputs": [],
   "source": [
    "movies=pd.read_csv(r\"C:\\Users\\premc\\Downloads\\movie_data\\movies.csv\")"
   ]
  },
  {
   "cell_type": "code",
   "execution_count": 3,
   "id": "12de776c-27fe-40f4-b67e-69af26cf3a15",
   "metadata": {},
   "outputs": [
    {
     "name": "stdout",
     "output_type": "stream",
     "text": [
      "      movieId                                      title  \\\n",
      "0           1                           Toy Story (1995)   \n",
      "1           2                             Jumanji (1995)   \n",
      "2           3                    Grumpier Old Men (1995)   \n",
      "3           4                   Waiting to Exhale (1995)   \n",
      "4           5         Father of the Bride Part II (1995)   \n",
      "...       ...                                        ...   \n",
      "9737   193581  Black Butler: Book of the Atlantic (2017)   \n",
      "9738   193583               No Game No Life: Zero (2017)   \n",
      "9739   193585                               Flint (2017)   \n",
      "9740   193587        Bungo Stray Dogs: Dead Apple (2018)   \n",
      "9741   193609        Andrew Dice Clay: Dice Rules (1991)   \n",
      "\n",
      "                                           genres  \n",
      "0     Adventure|Animation|Children|Comedy|Fantasy  \n",
      "1                      Adventure|Children|Fantasy  \n",
      "2                                  Comedy|Romance  \n",
      "3                            Comedy|Drama|Romance  \n",
      "4                                          Comedy  \n",
      "...                                           ...  \n",
      "9737              Action|Animation|Comedy|Fantasy  \n",
      "9738                     Animation|Comedy|Fantasy  \n",
      "9739                                        Drama  \n",
      "9740                             Action|Animation  \n",
      "9741                                       Comedy  \n",
      "\n",
      "[9742 rows x 3 columns]\n"
     ]
    }
   ],
   "source": [
    "print(movies)"
   ]
  },
  {
   "cell_type": "code",
   "execution_count": 4,
   "id": "98dc0381-87bb-4713-a7a2-11446baa49e1",
   "metadata": {},
   "outputs": [
    {
     "data": {
      "text/plain": [
       "(9742, 3)"
      ]
     },
     "execution_count": 4,
     "metadata": {},
     "output_type": "execute_result"
    }
   ],
   "source": [
    "# the shape of \"movies.csv\".\n",
    "\n",
    "movies.shape"
   ]
  },
  {
   "cell_type": "code",
   "execution_count": 5,
   "id": "ebdb4914-39eb-4a69-a512-6298c2ae8f10",
   "metadata": {},
   "outputs": [],
   "source": [
    "ratings=pd.read_csv(r\"C:\\Users\\premc\\Downloads\\movie_data\\ratings.csv\")"
   ]
  },
  {
   "cell_type": "code",
   "execution_count": 6,
   "id": "f907e353-b5bf-4230-a90f-6e2ba7056139",
   "metadata": {},
   "outputs": [
    {
     "name": "stdout",
     "output_type": "stream",
     "text": [
      "        userId  movieId  rating   timestamp\n",
      "0            1        1     4.0   964982703\n",
      "1            1        3     4.0   964981247\n",
      "2            1        6     4.0   964982224\n",
      "3            1       47     5.0   964983815\n",
      "4            1       50     5.0   964982931\n",
      "...        ...      ...     ...         ...\n",
      "100831     610   166534     4.0  1493848402\n",
      "100832     610   168248     5.0  1493850091\n",
      "100833     610   168250     5.0  1494273047\n",
      "100834     610   168252     5.0  1493846352\n",
      "100835     610   170875     3.0  1493846415\n",
      "\n",
      "[100836 rows x 4 columns]\n"
     ]
    }
   ],
   "source": [
    "print(ratings)"
   ]
  },
  {
   "cell_type": "markdown",
   "id": "e02dfe23-a0e4-4053-8ce8-619ec3be23eb",
   "metadata": {},
   "source": [
    "### the shape of \"ratings.csv\""
   ]
  },
  {
   "cell_type": "code",
   "execution_count": 7,
   "id": "595b008b-39c0-4a94-bac5-2ce9c1680f62",
   "metadata": {},
   "outputs": [
    {
     "data": {
      "text/plain": [
       "(100836, 4)"
      ]
     },
     "execution_count": 7,
     "metadata": {},
     "output_type": "execute_result"
    }
   ],
   "source": [
    "ratings.shape"
   ]
  },
  {
   "cell_type": "markdown",
   "id": "20fd15cf-2191-4024-88c9-616b5a1491ec",
   "metadata": {},
   "source": [
    "#### UNIQUE \"userId\" are available in \"ratings.csv\""
   ]
  },
  {
   "cell_type": "code",
   "execution_count": 8,
   "id": "3af1b5a4-d132-4688-a996-b4bea3fa857f",
   "metadata": {},
   "outputs": [
    {
     "data": {
      "text/plain": [
       "610"
      ]
     },
     "execution_count": 8,
     "metadata": {},
     "output_type": "execute_result"
    }
   ],
   "source": [
    "ratings['userId'].nunique()"
   ]
  },
  {
   "cell_type": "markdown",
   "id": "5bc2aaf2-ec91-4af7-a5a2-cfe93d88c9e1",
   "metadata": {},
   "source": [
    "#### Movie has recieved maximum number of user ratings"
   ]
  },
  {
   "cell_type": "code",
   "execution_count": 9,
   "id": "0b7a5172-caf6-4329-a690-b8349ca20ef5",
   "metadata": {},
   "outputs": [],
   "source": [
    "rating_count=ratings['movieId'].value_counts()\n",
    "max_movie_id=rating_count.idxmax()\n",
    "max_rating_count=rating_count.max()\n",
    "max_movie_title=movies[movies['movieId']==max_movie_id]['title'].values[0]"
   ]
  },
  {
   "cell_type": "code",
   "execution_count": 10,
   "id": "d6c2cdb0-9383-46e5-85c2-6c1bfa13a5eb",
   "metadata": {},
   "outputs": [
    {
     "name": "stdout",
     "output_type": "stream",
     "text": [
      "Forrest Gump (1994)\n"
     ]
    }
   ],
   "source": [
    "print(max_movie_title)"
   ]
  },
  {
   "cell_type": "markdown",
   "id": "a80fafb4-88de-47c9-bb28-cb62c727693d",
   "metadata": {},
   "source": [
    "#### ALL the correct tags submitted by users to \"Matrix, The (1999)\" movie?"
   ]
  },
  {
   "cell_type": "code",
   "execution_count": 11,
   "id": "53a8d12b-dfbb-4cb5-893f-f1f174e33241",
   "metadata": {},
   "outputs": [
    {
     "name": "stdout",
     "output_type": "stream",
     "text": [
      "      userId  movieId               tag   timestamp\n",
      "0          2    60756             funny  1445714994\n",
      "1          2    60756   Highly quotable  1445714996\n",
      "2          2    60756      will ferrell  1445714992\n",
      "3          2    89774      Boxing story  1445715207\n",
      "4          2    89774               MMA  1445715200\n",
      "...      ...      ...               ...         ...\n",
      "3678     606     7382         for katie  1171234019\n",
      "3679     606     7936           austere  1173392334\n",
      "3680     610     3265            gun fu  1493843984\n",
      "3681     610     3265  heroic bloodshed  1493843978\n",
      "3682     610   168248  Heroic Bloodshed  1493844270\n",
      "\n",
      "[3683 rows x 4 columns]\n"
     ]
    }
   ],
   "source": [
    "tags=pd.read_csv(r\"C:\\Users\\premc\\Downloads\\movie_data\\tags.csv\")\n",
    "print(tags)"
   ]
  },
  {
   "cell_type": "code",
   "execution_count": 12,
   "id": "189e9a05-c23a-4465-8868-706ae281df0d",
   "metadata": {},
   "outputs": [
    {
     "name": "stdout",
     "output_type": "stream",
     "text": [
      "[2571]\n"
     ]
    }
   ],
   "source": [
    "movies['movieId']=movies['movieId'].astype(int)\n",
    "matrix_movie_id = movies[movies['title'].str.contains('Matrix', case=False) & movies['title'].str.contains('1999')]['movieId'].values\n",
    "print(matrix_movie_id)"
   ]
  },
  {
   "cell_type": "code",
   "execution_count": 13,
   "id": "aff4f3ee-2125-412c-9fe1-1875e9d74afd",
   "metadata": {},
   "outputs": [],
   "source": [
    "matrix_tags=tags[tags['movieId']==2571]"
   ]
  },
  {
   "cell_type": "code",
   "execution_count": 14,
   "id": "a9a6f5d7-0949-43e5-9319-af6b02152ec0",
   "metadata": {},
   "outputs": [
    {
     "name": "stdout",
     "output_type": "stream",
     "text": [
      "      userId  movieId                 tag   timestamp\n",
      "815      424     2571        martial arts  1457842912\n",
      "816      424     2571              sci-fi  1457842899\n",
      "1646     474     2571  alternate universe  1137204991\n",
      "2794     537     2571          philosophy  1424141098\n",
      "2795     537     2571    post apocalyptic  1424141101\n"
     ]
    }
   ],
   "source": [
    "print(matrix_tags)"
   ]
  },
  {
   "cell_type": "code",
   "execution_count": 15,
   "id": "b4d56f74-a242-457b-bcf0-762b4b800940",
   "metadata": {},
   "outputs": [
    {
     "name": "stdout",
     "output_type": "stream",
     "text": [
      "[589]\n"
     ]
    }
   ],
   "source": [
    "terminator_movie_id = movies[movies['title'].str.contains('Terminator 2: Judgment Day ', case=False) &   movies['title'].str.contains('1991')]['movieId'].values\n",
    "print(terminator_movie_id)"
   ]
  },
  {
   "cell_type": "code",
   "execution_count": 16,
   "id": "3075b630-a86f-4869-b837-7d8452c493b8",
   "metadata": {},
   "outputs": [],
   "source": [
    "average_rating=ratings[ratings['movieId']==terminator_movie_id[0]]['rating'].mean()"
   ]
  },
  {
   "cell_type": "code",
   "execution_count": 17,
   "id": "15eed40e-0c8f-4007-9cfe-ba64c5d73cec",
   "metadata": {},
   "outputs": [
    {
     "name": "stdout",
     "output_type": "stream",
     "text": [
      "3.970982142857143\n"
     ]
    }
   ],
   "source": [
    "print(average_rating)"
   ]
  },
  {
   "cell_type": "code",
   "execution_count": 18,
   "id": "286628cd-d20d-4f97-8233-865f6332e7b7",
   "metadata": {},
   "outputs": [
    {
     "name": "stdout",
     "output_type": "stream",
     "text": [
      "[2959]\n"
     ]
    }
   ],
   "source": [
    "fightclub_movie_id = movies[movies['title'].str.contains('Fight Club ', case=False) &   movies['title'].str.contains('1999')]['movieId'].values\n",
    "print(fightclub_movie_id)"
   ]
  },
  {
   "cell_type": "code",
   "execution_count": 19,
   "id": "a5f2c87e-ef05-435b-ba22-c0ee5fef0399",
   "metadata": {},
   "outputs": [],
   "source": [
    "fightclub_ratings=ratings[ratings['movieId']==fightclub_movie_id[0]]['rating']"
   ]
  },
  {
   "cell_type": "code",
   "execution_count": 20,
   "id": "bb9dc71f-a9ed-4344-b744-a1319d7f2535",
   "metadata": {},
   "outputs": [
    {
     "name": "stderr",
     "output_type": "stream",
     "text": [
      "C:\\ProgramData\\anaconda3\\Lib\\site-packages\\seaborn\\_oldcore.py:1119: FutureWarning: use_inf_as_na option is deprecated and will be removed in a future version. Convert inf values to NaN before operating instead.\n",
      "  with pd.option_context('mode.use_inf_as_na', True):\n"
     ]
    },
    {
     "data": {
      "text/plain": [
       "<Axes: xlabel='rating', ylabel='Count'>"
      ]
     },
     "execution_count": 20,
     "metadata": {},
     "output_type": "execute_result"
    },
    {
     "data": {
      "image/png": "[encoded data removed]",
      "text/plain": [
       "<Figure size 640x480 with 1 Axes>"
      ]
     },
     "metadata": {},
     "output_type": "display_data"
    }
   ],
   "source": [
    "sns.histplot(fightclub_ratings,bins=10,kde=True,color='red')"
   ]
  },
  {
   "cell_type": "code",
   "execution_count": 21,
   "id": "c7a9f2b3-7c0c-4570-973b-2bd0e1d40130",
   "metadata": {},
   "outputs": [],
   "source": [
    "grouped_ratings=ratings.groupby('movieId').agg(rating_count=('rating','count'),rating_mean=('rating','mean')).reset_index()"
   ]
  },
  {
   "cell_type": "code",
   "execution_count": 22,
   "id": "1ddd5383-1d0c-460f-b4c1-0b3c5a8d2119",
   "metadata": {},
   "outputs": [],
   "source": [
    "merged_data=pd.merge(movies,grouped_ratings,on='movieId',how='inner')"
   ]
  },
  {
   "cell_type": "code",
   "execution_count": 23,
   "id": "d7e6b926-12bc-48d0-8241-c663fe9902d7",
   "metadata": {},
   "outputs": [],
   "source": [
    "popular_movies=merged_data[merged_data['rating_count']>50]"
   ]
  },
  {
   "cell_type": "markdown",
   "id": "2499b840-2afa-4741-b34f-6074767ae326",
   "metadata": {},
   "source": [
    "#### The most popular based on  average user ratings"
   ]
  },
  {
   "cell_type": "code",
   "execution_count": 24,
   "id": "d9f533c8-eb5b-40c2-888a-d405b7ca6b1b",
   "metadata": {},
   "outputs": [],
   "source": [
    "most_popular_movie=popular_movies.loc[popular_movies['rating_mean'].idxmax()]"
   ]
  },
  {
   "cell_type": "code",
   "execution_count": 25,
   "id": "01881307-fd59-429e-8281-2cb46e7b2242",
   "metadata": {},
   "outputs": [
    {
     "name": "stdout",
     "output_type": "stream",
     "text": [
      "movieId                                      318\n",
      "title           Shawshank Redemption, The (1994)\n",
      "genres                               Crime|Drama\n",
      "rating_count                                 317\n",
      "rating_mean                             4.429022\n",
      "Name: 277, dtype: object\n"
     ]
    }
   ],
   "source": [
    "print(most_popular_movie)"
   ]
  },
  {
   "cell_type": "markdown",
   "id": "30e36c55-8341-43b6-94f9-144bd29a3b87",
   "metadata": {},
   "source": [
    "#### TOP 5 popular movies based on number of user ratings."
   ]
  },
  {
   "cell_type": "code",
   "execution_count": 26,
   "id": "73ddbd3d-e73f-4c1c-8eee-07b2e225b32f",
   "metadata": {},
   "outputs": [],
   "source": [
    "top_movies=popular_movies.sort_values(by='rating_count',ascending=False).head(5)"
   ]
  },
  {
   "cell_type": "code",
   "execution_count": 27,
   "id": "72adef32-8462-443b-aee2-743959cd8990",
   "metadata": {},
   "outputs": [
    {
     "name": "stdout",
     "output_type": "stream",
     "text": [
      "      movieId                             title                       genres  \\\n",
      "314       356               Forrest Gump (1994)     Comedy|Drama|Romance|War   \n",
      "277       318  Shawshank Redemption, The (1994)                  Crime|Drama   \n",
      "257       296               Pulp Fiction (1994)  Comedy|Crime|Drama|Thriller   \n",
      "510       593  Silence of the Lambs, The (1991)        Crime|Horror|Thriller   \n",
      "1938     2571                Matrix, The (1999)       Action|Sci-Fi|Thriller   \n",
      "\n",
      "      rating_count  rating_mean  \n",
      "314            329     4.164134  \n",
      "277            317     4.429022  \n",
      "257            307     4.197068  \n",
      "510            279     4.161290  \n",
      "1938           278     4.192446  \n"
     ]
    }
   ],
   "source": [
    "print(top_movies)"
   ]
  },
  {
   "cell_type": "code",
   "execution_count": 28,
   "id": "9b939ba9-2ada-4f40-8e15-2408df618f67",
   "metadata": {},
   "outputs": [],
   "source": [
    "sci_fi_movies=popular_movies[popular_movies['genres'].str.contains('Sci-Fi',case=False)]"
   ]
  },
  {
   "cell_type": "code",
   "execution_count": 29,
   "id": "0baae2e1-a21f-48f0-a70c-302daefa3c70",
   "metadata": {},
   "outputs": [],
   "source": [
    "sci_fi_movies=sci_fi_movies.sort_values(by='rating_count',ascending=False)"
   ]
  },
  {
   "cell_type": "code",
   "execution_count": 30,
   "id": "1f139d59-2407-4034-9c5e-b50746b5a4da",
   "metadata": {},
   "outputs": [
    {
     "name": "stdout",
     "output_type": "stream",
     "text": [
      "movieId                                      480\n",
      "title                       Jurassic Park (1993)\n",
      "genres          Action|Adventure|Sci-Fi|Thriller\n",
      "rating_count                                 238\n",
      "rating_mean                                 3.75\n",
      "Name: 418, dtype: object\n"
     ]
    }
   ],
   "source": [
    "Third_most_popular=sci_fi_movies.iloc[2]\n",
    "print(Third_most_popular)"
   ]
  },
  {
   "cell_type": "code",
   "execution_count": 31,
   "id": "4c21e761-e22a-493a-b6ce-57efb148accf",
   "metadata": {},
   "outputs": [
    {
     "name": "stdout",
     "output_type": "stream",
     "text": [
      "      movieId                             title  \\\n",
      "0           1                  Toy Story (1995)   \n",
      "1           2                    Jumanji (1995)   \n",
      "2           3           Grumpier Old Men (1995)   \n",
      "5           6                       Heat (1995)   \n",
      "6           7                    Sabrina (1995)   \n",
      "...       ...                               ...   \n",
      "8287   106782   Wolf of Wall Street, The (2013)   \n",
      "8354   109374  Grand Budapest Hotel, The (2014)   \n",
      "8358   109487               Interstellar (2014)   \n",
      "8457   112852    Guardians of the Galaxy (2014)   \n",
      "8673   122904                   Deadpool (2016)   \n",
      "\n",
      "                                           genres  rating_count  rating_mean  \n",
      "0     Adventure|Animation|Children|Comedy|Fantasy           215     3.920930  \n",
      "1                      Adventure|Children|Fantasy           110     3.431818  \n",
      "2                                  Comedy|Romance            52     3.259615  \n",
      "5                           Action|Crime|Thriller           102     3.946078  \n",
      "6                                  Comedy|Romance            54     3.185185  \n",
      "...                                           ...           ...          ...  \n",
      "8287                           Comedy|Crime|Drama            54     3.916667  \n",
      "8354                                 Comedy|Drama            52     3.778846  \n",
      "8358                                  Sci-Fi|IMAX            73     3.993151  \n",
      "8457                      Action|Adventure|Sci-Fi            59     4.050847  \n",
      "8673               Action|Adventure|Comedy|Sci-Fi            54     3.833333  \n",
      "\n",
      "[436 rows x 5 columns]\n"
     ]
    }
   ],
   "source": [
    "print(popular_movies)"
   ]
  },
  {
   "cell_type": "code",
   "execution_count": 32,
   "id": "05ce521e-173e-42a6-b9fd-1e83c14699a0",
   "metadata": {},
   "outputs": [],
   "source": [
    "links=pd.read_csv(r\"C:\\Users\\premc\\Downloads\\movie_data\\links.csv\")"
   ]
  },
  {
   "cell_type": "code",
   "execution_count": 33,
   "id": "683c2ccc-95bb-4303-8135-c387293271e6",
   "metadata": {},
   "outputs": [
    {
     "name": "stdout",
     "output_type": "stream",
     "text": [
      "      movieId   imdbId    tmdbId\n",
      "0           1   114709     862.0\n",
      "1           2   113497    8844.0\n",
      "2           3   113228   15602.0\n",
      "3           4   114885   31357.0\n",
      "4           5   113041   11862.0\n",
      "...       ...      ...       ...\n",
      "9737   193581  5476944  432131.0\n",
      "9738   193583  5914996  445030.0\n",
      "9739   193585  6397426  479308.0\n",
      "9740   193587  8391976  483455.0\n",
      "9741   193609   101726   37891.0\n",
      "\n",
      "[9742 rows x 3 columns]\n"
     ]
    }
   ],
   "source": [
    "print(links)"
   ]
  },
  {
   "cell_type": "code",
   "execution_count": 34,
   "id": "2458e8a9-1307-45cb-8cd4-8f761f301857",
   "metadata": {},
   "outputs": [
    {
     "name": "stdout",
     "output_type": "stream",
     "text": [
      "0        114709\n",
      "1        113497\n",
      "2        113228\n",
      "5        113277\n",
      "6        114319\n",
      "         ...   \n",
      "8305     993846\n",
      "8372    2278388\n",
      "8376     816692\n",
      "8475    2015381\n",
      "8691    1431045\n",
      "Name: imdbId, Length: 436, dtype: int64\n"
     ]
    }
   ],
   "source": [
    "popular_imdb_ids=links[links['movieId'].isin(popular_movies['movieId'])]['imdbId']\n",
    "print(popular_imdb_ids)"
   ]
  },
  {
   "cell_type": "code",
   "execution_count": 40,
   "id": "218e5bd7-96de-44d5-986c-d0d1a6e7fb39",
   "metadata": {},
   "outputs": [],
   "source": [
    "import requests\n",
    "import numpy as np\n",
    "import time\n",
    "from bs4 import BeautifulSoup\n",
    "\n",
    "def scrapper(imdbId):\n",
    "    id = str(int(imdbId))\n",
    "    n_zeroes = 7 - len(id)\n",
    "    new_id = \"0\"*n_zeroes + id\n",
    "    URL = f\"https://www.imdb.com/title/tt{new_id}/ratings/\"\n",
    "    request_header = {'Content-Type': 'text/html; charset=UTF-8', \n",
    "                      'User-Agent': 'Mozilla/5.0 (Windows NT 10.0; Win64; x64; rv:109.0) Gecko/20100101 Firefox/119.0', \n",
    "                      'Accept-Encoding': 'gzip, deflate, br'}\n",
    "    response = requests.get(URL, headers=request_header)\n",
    "    soup = BeautifulSoup(response.text,'html.parser')\n",
    "    imdb_rating = soup.find('span', attrs={'class':'sc-40b53d-1 kJANdR'})\n",
    "    return imdb_rating.text if imdb_rating else np.nan\n",
    "    \n",
    "imdb_ratings={}\n",
    "for imdbId in popular_imdb_ids:\n",
    "    rating=scrapper(imdbId)\n",
    "    imdb_ratings[imdbId]=rating\n",
    "    time.sleep(1)"
   ]
  },
  {
   "cell_type": "code",
   "execution_count": 42,
   "id": "79b905f6-154a-40df-bc60-5741286bbac2",
   "metadata": {},
   "outputs": [],
   "source": [
    "imdb_df=pd.DataFrame(list(imdb_ratings.items()),columns=['imdbId','imdbRating'])"
   ]
  },
  {
   "cell_type": "code",
   "execution_count": 43,
   "id": "405fae12-a386-472b-8388-1b2c0335f3f6",
   "metadata": {},
   "outputs": [],
   "source": [
    "highest_rated_movie=imdb_df.loc[imdb_df['imdbRating'].idxmax()]"
   ]
  },
  {
   "cell_type": "code",
   "execution_count": 44,
   "id": "1821573e-8def-4977-8ca8-9af177cd6792",
   "metadata": {},
   "outputs": [
    {
     "name": "stdout",
     "output_type": "stream",
     "text": [
      "imdbId        111161\n",
      "imdbRating       9.3\n",
      "Name: 53, dtype: object\n"
     ]
    }
   ],
   "source": [
    "print(highest_rated_movie)"
   ]
  },
  {
   "cell_type": "code",
   "execution_count": 45,
   "id": "dc812a70-7e18-4167-b430-ecdf448c3513",
   "metadata": {},
   "outputs": [
    {
     "name": "stdout",
     "output_type": "stream",
     "text": [
      "318\n"
     ]
    }
   ],
   "source": [
    "movie_id=links.loc[links['imdbId']==111161,'movieId'].values[0]\n",
    "print(movie_id)"
   ]
  },
  {
   "cell_type": "code",
   "execution_count": 46,
   "id": "81ec84e5-1ea5-4fd4-9999-fc3006a8ef41",
   "metadata": {},
   "outputs": [],
   "source": [
    "sci_fi_imdb=pd.merge(sci_fi_movies,links,on='movieId')"
   ]
  },
  {
   "cell_type": "code",
   "execution_count": 47,
   "id": "8e833c7f-d3ae-45e2-9cbe-e69afa7eb4ae",
   "metadata": {},
   "outputs": [],
   "source": [
    "sci_fi_ratings=pd.merge(sci_fi_imdb,ratings,on='movieId')"
   ]
  },
  {
   "cell_type": "code",
   "execution_count": 48,
   "id": "360f2f12-bc33-4ba7-9d2b-8abed700b59f",
   "metadata": {},
   "outputs": [],
   "source": [
    "highest_scifi=sci_fi_ratings.loc[sci_fi_ratings['rating'].idxmax()]"
   ]
  },
  {
   "cell_type": "code",
   "execution_count": 49,
   "id": "41a281dc-3ae0-4897-ae40-9357ec03fed2",
   "metadata": {},
   "outputs": [
    {
     "name": "stdout",
     "output_type": "stream",
     "text": [
      "movieId                           2571\n",
      "title               Matrix, The (1999)\n",
      "genres          Action|Sci-Fi|Thriller\n",
      "rating_count                       278\n",
      "rating_mean                   4.192446\n",
      "imdbId                          133093\n",
      "tmdbId                           603.0\n",
      "userId                               1\n",
      "rating                             5.0\n",
      "timestamp                    964981888\n",
      "Name: 0, dtype: object\n"
     ]
    }
   ],
   "source": [
    "print(highest_scifi)"
   ]
  },
  {
   "cell_type": "code",
   "execution_count": null,
   "id": "6d251d66-7458-4828-bdef-ce9130c4ad80",
   "metadata": {},
   "outputs": [],
   "source": []
  }
 ],
 "metadata": {
  "kernelspec": {
   "display_name": "Python 3 (ipykernel)",
   "language": "python",
   "name": "python3"
  },
  "language_info": {
   "codemirror_mode": {
    "name": "ipython",
    "version": 3
   },
   "file_extension": ".py",
   "mimetype": "text/x-python",
   "name": "python",
   "nbconvert_exporter": "python",
   "pygments_lexer": "ipython3",
   "version": "3.11.7"
  }
 },
 "nbformat": 4,
 "nbformat_minor": 5
}
